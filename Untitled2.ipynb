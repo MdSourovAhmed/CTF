{
  "nbformat": 4,
  "nbformat_minor": 0,
  "metadata": {
    "colab": {
      "provenance": [],
      "authorship_tag": "ABX9TyM+FGlAgbpOwxcc5cDLh5A5",
      "include_colab_link": true
    },
    "kernelspec": {
      "name": "python3",
      "display_name": "Python 3"
    },
    "language_info": {
      "name": "python"
    }
  },
  "cells": [
    {
      "cell_type": "markdown",
      "metadata": {
        "id": "view-in-github",
        "colab_type": "text"
      },
      "source": [
        "<a href=\"https://colab.research.google.com/github/MdSourovAhmed/CTF/blob/main/Untitled2.ipynb\" target=\"_parent\"><img src=\"https://colab.research.google.com/assets/colab-badge.svg\" alt=\"Open In Colab\"/></a>"
      ]
    },
    {
      "cell_type": "code",
      "execution_count": 2,
      "metadata": {
        "colab": {
          "base_uri": "https://localhost:8080/"
        },
        "id": "SsurKudLR9sM",
        "outputId": "40545c38-0507-4d05-80af-94267c496139"
      },
      "outputs": [
        {
          "output_type": "stream",
          "name": "stdout",
          "text": [
            "Decrypted Message: ORDER: Attack at dawn. Target: THM{the_hackfinity_highschool}.\n"
          ]
        }
      ],
      "source": [
        "def xor_decrypt(ciphertext_hex, key):\n",
        "    # Convert hex ciphertext to bytes\n",
        "    ciphertext_bytes = bytes.fromhex(ciphertext_hex)\n",
        "\n",
        "    # Convert the key to bytes\n",
        "    key_bytes = key.encode('utf-8') # Convert key to bytes\n",
        "\n",
        "    # Repeat the key to match the length of the ciphertext\n",
        "    repeated_key = (key_bytes * (len(ciphertext_bytes) // len(key_bytes) + 1))[:len(ciphertext_bytes)]\n",
        "\n",
        "    # XOR each byte of the ciphertext with the corresponding byte of the key\n",
        "    decrypted_bytes = bytes([cb ^ kb for cb, kb in zip(ciphertext_bytes, repeated_key)])\n",
        "\n",
        "    # Convert the decrypted bytes to a string\n",
        "    decrypted_message = decrypted_bytes.decode('utf-8', errors='ignore')\n",
        "\n",
        "    return decrypted_message\n",
        "\n",
        "# Intercepted message in hex\n",
        "ciphertext_hex = \"1c1c01041963730f31352a3a386e24356b3d32392b6f6b0d323c22243f63731a0d0c302d3b2b1a292a3a38282c2f222d2a112d282c31202d2d2e24352e60\"\n",
        "\n",
        "# Known key (derived from the known plaintext \"ORDER:\")\n",
        "key = \"SNEAKY\"\n",
        "\n",
        "# Decrypt the message\n",
        "decrypted_message = xor_decrypt(ciphertext_hex, key)\n",
        "\n",
        "print(\"Decrypted Message:\", decrypted_message)"
      ]
    }
  ]
}